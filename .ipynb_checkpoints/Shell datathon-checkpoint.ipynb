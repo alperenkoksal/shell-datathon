{
 "cells": [
  {
   "cell_type": "markdown",
   "metadata": {},
   "source": [
    "### Shell Datathon\n",
    "<br>\n",
    "    \n",
    "#### Akaryakıt İstasyonlarında Tedarik Zinciri\n",
    "\n",
    "<br>\n",
    "\n",
    "Shell & Turcas’ın Türkiye genelinde üç adet kendi işlettiği ve dört adet de müşterek işletilen olmak üzere toplam yedi adet akaryakıt terminali bulunmaktadır. Akaryakıt istasyonlarına yapılan ürün ikmali Shell & Turcas ve hizmet alınan diğer akaryakıt terminallerinden kara yolu nakliye araçları ile yapılmaktadır. İstasyonların vermiş oldukları sipariş miktarları satış hacimlerine ve akaryakıt fiyatlarına bağlı olarak değişkenlik göstermektedir.\n",
    "\n",
    "<br>\n",
    "\n",
    "#### Ne Üretmenizi Bekliyoruz?\n",
    "\n",
    "Shell Cashflow Datathon'unda, gelir ve gider kalemlerini etkileyebilecek tüm verileri kullanarak 42 günlük Net Cashflow from Operations tahmini yapmanızı istiyoruz.\n",
    "\n"
   ]
  },
  {
   "cell_type": "code",
   "execution_count": 2,
   "metadata": {},
   "outputs": [],
   "source": [
    "import pandas as pd\n",
    "import numpy as np"
   ]
  },
  {
   "cell_type": "code",
   "execution_count": 3,
   "metadata": {},
   "outputs": [],
   "source": [
    "df_train = pd.read_csv(\"cash_flow_train.csv\")"
   ]
  },
  {
   "cell_type": "code",
   "execution_count": 4,
   "metadata": {},
   "outputs": [
    {
     "data": {
      "text/html": [
       "<div>\n",
       "<style scoped>\n",
       "    .dataframe tbody tr th:only-of-type {\n",
       "        vertical-align: middle;\n",
       "    }\n",
       "\n",
       "    .dataframe tbody tr th {\n",
       "        vertical-align: top;\n",
       "    }\n",
       "\n",
       "    .dataframe thead th {\n",
       "        text-align: right;\n",
       "    }\n",
       "</style>\n",
       "<table border=\"1\" class=\"dataframe\">\n",
       "  <thead>\n",
       "    <tr style=\"text-align: right;\">\n",
       "      <th></th>\n",
       "      <th>Date</th>\n",
       "      <th>Total Inflows</th>\n",
       "      <th>Customers - DDS</th>\n",
       "      <th>Customers - EFT</th>\n",
       "      <th>T&amp;S Collections</th>\n",
       "      <th>FX Sales</th>\n",
       "      <th>Other operations</th>\n",
       "      <th>Total Outflows</th>\n",
       "      <th>Tüpraş</th>\n",
       "      <th>Other Oil</th>\n",
       "      <th>Gas</th>\n",
       "      <th>Import payments (FX purchases)</th>\n",
       "      <th>Tax</th>\n",
       "      <th>Operatioınal and Admin. Expenses</th>\n",
       "      <th>VIS Buyback Payments</th>\n",
       "      <th>Net Cashflow from Operations</th>\n",
       "      <th>Inflows- currency</th>\n",
       "    </tr>\n",
       "  </thead>\n",
       "  <tbody>\n",
       "    <tr>\n",
       "      <th>0</th>\n",
       "      <td>2019-01-02</td>\n",
       "      <td>1.747050e+07</td>\n",
       "      <td>7718750</td>\n",
       "      <td>9.655500e+06</td>\n",
       "      <td>0.0</td>\n",
       "      <td>0.0</td>\n",
       "      <td>96250.0</td>\n",
       "      <td>-4.631593e+07</td>\n",
       "      <td>-1.457022e+07</td>\n",
       "      <td>-144151.00</td>\n",
       "      <td>-1.109963e+06</td>\n",
       "      <td>-29274250.0</td>\n",
       "      <td>-1.048839e+05</td>\n",
       "      <td>-1112468.950</td>\n",
       "      <td>0.000000e+00</td>\n",
       "      <td>-2.884543e+07</td>\n",
       "      <td>NaN</td>\n",
       "    </tr>\n",
       "    <tr>\n",
       "      <th>1</th>\n",
       "      <td>2019-01-03</td>\n",
       "      <td>1.153048e+07</td>\n",
       "      <td>3431500</td>\n",
       "      <td>8.098978e+06</td>\n",
       "      <td>0.0</td>\n",
       "      <td>0.0</td>\n",
       "      <td>0.0</td>\n",
       "      <td>-1.535349e+07</td>\n",
       "      <td>-1.337181e+07</td>\n",
       "      <td>-300799.25</td>\n",
       "      <td>-2.798575e+05</td>\n",
       "      <td>-7746.0</td>\n",
       "      <td>-7.887853e+05</td>\n",
       "      <td>-604485.735</td>\n",
       "      <td>0.000000e+00</td>\n",
       "      <td>-3.823007e+06</td>\n",
       "      <td>NaN</td>\n",
       "    </tr>\n",
       "    <tr>\n",
       "      <th>2</th>\n",
       "      <td>2019-01-04</td>\n",
       "      <td>2.591328e+07</td>\n",
       "      <td>13775750</td>\n",
       "      <td>1.213753e+07</td>\n",
       "      <td>0.0</td>\n",
       "      <td>0.0</td>\n",
       "      <td>0.0</td>\n",
       "      <td>-1.098651e+08</td>\n",
       "      <td>-2.459390e+07</td>\n",
       "      <td>0.00</td>\n",
       "      <td>0.000000e+00</td>\n",
       "      <td>-49032605.0</td>\n",
       "      <td>-2.936467e+06</td>\n",
       "      <td>-7175889.980</td>\n",
       "      <td>-2.612621e+07</td>\n",
       "      <td>-8.395180e+07</td>\n",
       "      <td>NaN</td>\n",
       "    </tr>\n",
       "    <tr>\n",
       "      <th>3</th>\n",
       "      <td>2019-01-07</td>\n",
       "      <td>5.259345e+07</td>\n",
       "      <td>39041750</td>\n",
       "      <td>1.355170e+07</td>\n",
       "      <td>0.0</td>\n",
       "      <td>0.0</td>\n",
       "      <td>0.0</td>\n",
       "      <td>-5.165489e+07</td>\n",
       "      <td>-3.110594e+07</td>\n",
       "      <td>-3364373.00</td>\n",
       "      <td>-1.406590e+06</td>\n",
       "      <td>-12049750.0</td>\n",
       "      <td>-8.218624e+05</td>\n",
       "      <td>-2906374.810</td>\n",
       "      <td>0.000000e+00</td>\n",
       "      <td>9.385578e+05</td>\n",
       "      <td>NaN</td>\n",
       "    </tr>\n",
       "    <tr>\n",
       "      <th>4</th>\n",
       "      <td>2019-01-08</td>\n",
       "      <td>3.650429e+07</td>\n",
       "      <td>15137500</td>\n",
       "      <td>2.136679e+07</td>\n",
       "      <td>0.0</td>\n",
       "      <td>0.0</td>\n",
       "      <td>0.0</td>\n",
       "      <td>-1.842178e+07</td>\n",
       "      <td>-1.246099e+07</td>\n",
       "      <td>-16765.25</td>\n",
       "      <td>-4.078995e+05</td>\n",
       "      <td>-67702.5</td>\n",
       "      <td>-4.438174e+06</td>\n",
       "      <td>-1030240.720</td>\n",
       "      <td>0.000000e+00</td>\n",
       "      <td>1.808252e+07</td>\n",
       "      <td>NaN</td>\n",
       "    </tr>\n",
       "  </tbody>\n",
       "</table>\n",
       "</div>"
      ],
      "text/plain": [
       "         Date  Total Inflows  Customers - DDS  Customers - EFT  \\\n",
       "0  2019-01-02   1.747050e+07          7718750     9.655500e+06   \n",
       "1  2019-01-03   1.153048e+07          3431500     8.098978e+06   \n",
       "2  2019-01-04   2.591328e+07         13775750     1.213753e+07   \n",
       "3  2019-01-07   5.259345e+07         39041750     1.355170e+07   \n",
       "4  2019-01-08   3.650429e+07         15137500     2.136679e+07   \n",
       "\n",
       "   T&S Collections  FX Sales  Other operations  Total Outflows        Tüpraş  \\\n",
       "0              0.0       0.0           96250.0   -4.631593e+07 -1.457022e+07   \n",
       "1              0.0       0.0               0.0   -1.535349e+07 -1.337181e+07   \n",
       "2              0.0       0.0               0.0   -1.098651e+08 -2.459390e+07   \n",
       "3              0.0       0.0               0.0   -5.165489e+07 -3.110594e+07   \n",
       "4              0.0       0.0               0.0   -1.842178e+07 -1.246099e+07   \n",
       "\n",
       "    Other Oil           Gas  Import payments (FX purchases)           Tax  \\\n",
       "0  -144151.00 -1.109963e+06                     -29274250.0 -1.048839e+05   \n",
       "1  -300799.25 -2.798575e+05                         -7746.0 -7.887853e+05   \n",
       "2        0.00  0.000000e+00                     -49032605.0 -2.936467e+06   \n",
       "3 -3364373.00 -1.406590e+06                     -12049750.0 -8.218624e+05   \n",
       "4   -16765.25 -4.078995e+05                        -67702.5 -4.438174e+06   \n",
       "\n",
       "   Operatioınal and Admin. Expenses  VIS Buyback Payments  \\\n",
       "0                      -1112468.950          0.000000e+00   \n",
       "1                       -604485.735          0.000000e+00   \n",
       "2                      -7175889.980         -2.612621e+07   \n",
       "3                      -2906374.810          0.000000e+00   \n",
       "4                      -1030240.720          0.000000e+00   \n",
       "\n",
       "   Net Cashflow from Operations  Inflows- currency  \n",
       "0                 -2.884543e+07                NaN  \n",
       "1                 -3.823007e+06                NaN  \n",
       "2                 -8.395180e+07                NaN  \n",
       "3                  9.385578e+05                NaN  \n",
       "4                  1.808252e+07                NaN  "
      ]
     },
     "execution_count": 4,
     "metadata": {},
     "output_type": "execute_result"
    }
   ],
   "source": [
    "df_train.head()"
   ]
  },
  {
   "cell_type": "markdown",
   "metadata": {},
   "source": [
    "Net Cashflow from Operations:\n",
    "Total Inflows ve Outflows farkıdır - Tahmin edilmesini talep ettiğimiz kalemdir"
   ]
  },
  {
   "cell_type": "code",
   "execution_count": 5,
   "metadata": {},
   "outputs": [
    {
     "data": {
      "text/plain": [
       "Date                                  0\n",
       "Total Inflows                         0\n",
       "Customers - DDS                       0\n",
       "Customers - EFT                       0\n",
       "T&S Collections                       0\n",
       "FX Sales                              0\n",
       "Other operations                      0\n",
       "Total Outflows                        0\n",
       "Tüpraş                                0\n",
       "Other Oil                             0\n",
       "Gas                                   0\n",
       "Import payments (FX purchases)        0\n",
       "Tax                                   0\n",
       "Operatioınal and Admin. Expenses      0\n",
       "VIS Buyback Payments                  0\n",
       "Net Cashflow from Operations          0\n",
       "Inflows- currency                   249\n",
       "dtype: int64"
      ]
     },
     "execution_count": 5,
     "metadata": {},
     "output_type": "execute_result"
    }
   ],
   "source": [
    "df_train.isnull().sum()"
   ]
  },
  {
   "cell_type": "code",
   "execution_count": 15,
   "metadata": {},
   "outputs": [
    {
     "data": {
      "text/plain": [
       "'2019-01-02'"
      ]
     },
     "execution_count": 15,
     "metadata": {},
     "output_type": "execute_result"
    }
   ],
   "source": [
    "df_train[\"Date\"].min()"
   ]
  },
  {
   "cell_type": "code",
   "execution_count": 14,
   "metadata": {},
   "outputs": [
    {
     "data": {
      "text/plain": [
       "'2023-02-01'"
      ]
     },
     "execution_count": 14,
     "metadata": {},
     "output_type": "execute_result"
    }
   ],
   "source": [
    "df_train[\"Date\"].max()"
   ]
  },
  {
   "cell_type": "code",
   "execution_count": 16,
   "metadata": {},
   "outputs": [],
   "source": [
    "df_brent = pd.read_csv(\"brent.csv\")"
   ]
  },
  {
   "cell_type": "code",
   "execution_count": 17,
   "metadata": {},
   "outputs": [
    {
     "data": {
      "text/html": [
       "<div>\n",
       "<style scoped>\n",
       "    .dataframe tbody tr th:only-of-type {\n",
       "        vertical-align: middle;\n",
       "    }\n",
       "\n",
       "    .dataframe tbody tr th {\n",
       "        vertical-align: top;\n",
       "    }\n",
       "\n",
       "    .dataframe thead th {\n",
       "        text-align: right;\n",
       "    }\n",
       "</style>\n",
       "<table border=\"1\" class=\"dataframe\">\n",
       "  <thead>\n",
       "    <tr style=\"text-align: right;\">\n",
       "      <th></th>\n",
       "      <th>Tarih</th>\n",
       "      <th>Ürün</th>\n",
       "      <th>Avrupa Birliği Para Birimi</th>\n",
       "      <th>AB Piyasa Fiyatı</th>\n",
       "      <th>AB Piyasa Fiyatı- Yüksek</th>\n",
       "      <th>AB Piyasa Fiyatı- Düşük</th>\n",
       "      <th>Dolar Kuru (Satış)</th>\n",
       "    </tr>\n",
       "  </thead>\n",
       "  <tbody>\n",
       "    <tr>\n",
       "      <th>0</th>\n",
       "      <td>2023-02-01</td>\n",
       "      <td>ICE BRENT</td>\n",
       "      <td>$/BBL</td>\n",
       "      <td>82.84</td>\n",
       "      <td>86.21</td>\n",
       "      <td>82.37</td>\n",
       "      <td>18.8235</td>\n",
       "    </tr>\n",
       "    <tr>\n",
       "      <th>1</th>\n",
       "      <td>2023-01-31</td>\n",
       "      <td>ICE BRENT</td>\n",
       "      <td>$/BBL</td>\n",
       "      <td>84.49</td>\n",
       "      <td>85.25</td>\n",
       "      <td>83.73</td>\n",
       "      <td>18.8216</td>\n",
       "    </tr>\n",
       "    <tr>\n",
       "      <th>2</th>\n",
       "      <td>2023-01-30</td>\n",
       "      <td>ICE BRENT</td>\n",
       "      <td>$/BBL</td>\n",
       "      <td>84.90</td>\n",
       "      <td>87.48</td>\n",
       "      <td>84.66</td>\n",
       "      <td>18.8215</td>\n",
       "    </tr>\n",
       "    <tr>\n",
       "      <th>3</th>\n",
       "      <td>2023-01-29</td>\n",
       "      <td>ICE BRENT</td>\n",
       "      <td>$/BBL</td>\n",
       "      <td>86.66</td>\n",
       "      <td>88.95</td>\n",
       "      <td>85.69</td>\n",
       "      <td>18.8191</td>\n",
       "    </tr>\n",
       "    <tr>\n",
       "      <th>4</th>\n",
       "      <td>2023-01-28</td>\n",
       "      <td>ICE BRENT</td>\n",
       "      <td>$/BBL</td>\n",
       "      <td>86.66</td>\n",
       "      <td>88.95</td>\n",
       "      <td>85.69</td>\n",
       "      <td>18.8191</td>\n",
       "    </tr>\n",
       "  </tbody>\n",
       "</table>\n",
       "</div>"
      ],
      "text/plain": [
       "        Tarih       Ürün Avrupa Birliği Para Birimi  AB Piyasa Fiyatı  \\\n",
       "0  2023-02-01  ICE BRENT                      $/BBL             82.84   \n",
       "1  2023-01-31  ICE BRENT                      $/BBL             84.49   \n",
       "2  2023-01-30  ICE BRENT                      $/BBL             84.90   \n",
       "3  2023-01-29  ICE BRENT                      $/BBL             86.66   \n",
       "4  2023-01-28  ICE BRENT                      $/BBL             86.66   \n",
       "\n",
       "   AB Piyasa Fiyatı- Yüksek  AB Piyasa Fiyatı- Düşük  Dolar Kuru (Satış)  \n",
       "0                     86.21                    82.37             18.8235  \n",
       "1                     85.25                    83.73             18.8216  \n",
       "2                     87.48                    84.66             18.8215  \n",
       "3                     88.95                    85.69             18.8191  \n",
       "4                     88.95                    85.69             18.8191  "
      ]
     },
     "execution_count": 17,
     "metadata": {},
     "output_type": "execute_result"
    }
   ],
   "source": [
    "df_brent.head()"
   ]
  },
  {
   "cell_type": "code",
   "execution_count": 18,
   "metadata": {},
   "outputs": [
    {
     "data": {
      "text/plain": [
       "Tarih                          0\n",
       "Ürün                           0\n",
       "Avrupa Birliği Para Birimi     0\n",
       "AB Piyasa Fiyatı               0\n",
       "AB Piyasa Fiyatı- Yüksek      44\n",
       "AB Piyasa Fiyatı- Düşük       44\n",
       "Dolar Kuru (Satış)             0\n",
       "dtype: int64"
      ]
     },
     "execution_count": 18,
     "metadata": {},
     "output_type": "execute_result"
    }
   ],
   "source": [
    "df_brent.isnull().sum()"
   ]
  },
  {
   "cell_type": "code",
   "execution_count": 19,
   "metadata": {},
   "outputs": [],
   "source": [
    "df_depo = pd.read_csv(\"depo_pump_imm.csv\")"
   ]
  },
  {
   "cell_type": "code",
   "execution_count": 20,
   "metadata": {},
   "outputs": [
    {
     "data": {
      "text/html": [
       "<div>\n",
       "<style scoped>\n",
       "    .dataframe tbody tr th:only-of-type {\n",
       "        vertical-align: middle;\n",
       "    }\n",
       "\n",
       "    .dataframe tbody tr th {\n",
       "        vertical-align: top;\n",
       "    }\n",
       "\n",
       "    .dataframe thead th {\n",
       "        text-align: right;\n",
       "    }\n",
       "</style>\n",
       "<table border=\"1\" class=\"dataframe\">\n",
       "  <thead>\n",
       "    <tr style=\"text-align: right;\">\n",
       "      <th></th>\n",
       "      <th>Yıl</th>\n",
       "      <th>Ay</th>\n",
       "      <th>IMM TL/m3</th>\n",
       "      <th>Pump Price</th>\n",
       "      <th>Depot Price</th>\n",
       "    </tr>\n",
       "  </thead>\n",
       "  <tbody>\n",
       "    <tr>\n",
       "      <th>0</th>\n",
       "      <td>2018</td>\n",
       "      <td>1</td>\n",
       "      <td>596,79</td>\n",
       "      <td>5,28</td>\n",
       "      <td>4.149,81</td>\n",
       "    </tr>\n",
       "    <tr>\n",
       "      <th>1</th>\n",
       "      <td>2018</td>\n",
       "      <td>2</td>\n",
       "      <td>606,58</td>\n",
       "      <td>5,23</td>\n",
       "      <td>4.110,32</td>\n",
       "    </tr>\n",
       "    <tr>\n",
       "      <th>2</th>\n",
       "      <td>2018</td>\n",
       "      <td>3</td>\n",
       "      <td>610,44</td>\n",
       "      <td>5,32</td>\n",
       "      <td>4.195,51</td>\n",
       "    </tr>\n",
       "    <tr>\n",
       "      <th>3</th>\n",
       "      <td>2018</td>\n",
       "      <td>4</td>\n",
       "      <td>608,02</td>\n",
       "      <td>5,62</td>\n",
       "      <td>4.449,25</td>\n",
       "    </tr>\n",
       "    <tr>\n",
       "      <th>4</th>\n",
       "      <td>2018</td>\n",
       "      <td>5</td>\n",
       "      <td>574,56</td>\n",
       "      <td>5,77</td>\n",
       "      <td>4.605,51</td>\n",
       "    </tr>\n",
       "  </tbody>\n",
       "</table>\n",
       "</div>"
      ],
      "text/plain": [
       "    Yıl  Ay IMM TL/m3 Pump Price Depot Price\n",
       "0  2018   1   596,79       5,28    4.149,81 \n",
       "1  2018   2   606,58       5,23    4.110,32 \n",
       "2  2018   3   610,44       5,32    4.195,51 \n",
       "3  2018   4   608,02       5,62    4.449,25 \n",
       "4  2018   5   574,56       5,77    4.605,51 "
      ]
     },
     "execution_count": 20,
     "metadata": {},
     "output_type": "execute_result"
    }
   ],
   "source": [
    "df_depo.head()"
   ]
  },
  {
   "cell_type": "code",
   "execution_count": 27,
   "metadata": {},
   "outputs": [
    {
     "data": {
      "text/plain": [
       "Yıl            0\n",
       "Ay             0\n",
       "IMM TL/m3      0\n",
       "Pump Price     0\n",
       "Depot Price    0\n",
       "dtype: int64"
      ]
     },
     "execution_count": 27,
     "metadata": {},
     "output_type": "execute_result"
    }
   ],
   "source": [
    "df_depo.isnull().sum()"
   ]
  },
  {
   "cell_type": "code",
   "execution_count": 21,
   "metadata": {},
   "outputs": [],
   "source": [
    "df_otv = pd.read_csv(\"otv.csv\")"
   ]
  },
  {
   "cell_type": "code",
   "execution_count": 22,
   "metadata": {},
   "outputs": [
    {
     "data": {
      "text/html": [
       "<div>\n",
       "<style scoped>\n",
       "    .dataframe tbody tr th:only-of-type {\n",
       "        vertical-align: middle;\n",
       "    }\n",
       "\n",
       "    .dataframe tbody tr th {\n",
       "        vertical-align: top;\n",
       "    }\n",
       "\n",
       "    .dataframe thead th {\n",
       "        text-align: right;\n",
       "    }\n",
       "</style>\n",
       "<table border=\"1\" class=\"dataframe\">\n",
       "  <thead>\n",
       "    <tr style=\"text-align: right;\">\n",
       "      <th></th>\n",
       "      <th>Tarih</th>\n",
       "      <th>ÖTV</th>\n",
       "      <th>Adet</th>\n",
       "      <th>ÖTV Oranı</th>\n",
       "      <th>ÖTV uygulanan Ürün Adı</th>\n",
       "    </tr>\n",
       "  </thead>\n",
       "  <tbody>\n",
       "    <tr>\n",
       "      <th>0</th>\n",
       "      <td>2018-05-22</td>\n",
       "      <td>2124.10</td>\n",
       "      <td>1000</td>\n",
       "      <td>2.12410</td>\n",
       "      <td>Kursunsuz Benzin 95</td>\n",
       "    </tr>\n",
       "    <tr>\n",
       "      <th>1</th>\n",
       "      <td>2018-05-22</td>\n",
       "      <td>2124.10</td>\n",
       "      <td>1000</td>\n",
       "      <td>2.12410</td>\n",
       "      <td>Kursunsuz Benzin 95</td>\n",
       "    </tr>\n",
       "    <tr>\n",
       "      <th>2</th>\n",
       "      <td>2018-05-22</td>\n",
       "      <td>2081.62</td>\n",
       "      <td>1000</td>\n",
       "      <td>2.08162</td>\n",
       "      <td>Etanollü Kurşunsuz Benzin 95</td>\n",
       "    </tr>\n",
       "    <tr>\n",
       "      <th>3</th>\n",
       "      <td>2018-05-22</td>\n",
       "      <td>2081.62</td>\n",
       "      <td>1000</td>\n",
       "      <td>2.08162</td>\n",
       "      <td>Etanollü Kurşunsuz Benzin 95</td>\n",
       "    </tr>\n",
       "    <tr>\n",
       "      <th>4</th>\n",
       "      <td>2018-05-22</td>\n",
       "      <td>1567.90</td>\n",
       "      <td>1000</td>\n",
       "      <td>1.56790</td>\n",
       "      <td>Motorin</td>\n",
       "    </tr>\n",
       "  </tbody>\n",
       "</table>\n",
       "</div>"
      ],
      "text/plain": [
       "        Tarih     ÖTV   Adet  ÖTV Oranı        ÖTV uygulanan Ürün Adı\n",
       "0  2018-05-22  2124.10  1000    2.12410           Kursunsuz Benzin 95\n",
       "1  2018-05-22  2124.10  1000    2.12410           Kursunsuz Benzin 95\n",
       "2  2018-05-22  2081.62  1000    2.08162  Etanollü Kurşunsuz Benzin 95\n",
       "3  2018-05-22  2081.62  1000    2.08162  Etanollü Kurşunsuz Benzin 95\n",
       "4  2018-05-22  1567.90  1000    1.56790                       Motorin"
      ]
     },
     "execution_count": 22,
     "metadata": {},
     "output_type": "execute_result"
    }
   ],
   "source": [
    "df_otv.head()"
   ]
  },
  {
   "cell_type": "code",
   "execution_count": 28,
   "metadata": {},
   "outputs": [
    {
     "data": {
      "text/plain": [
       "Tarih                     0\n",
       "ÖTV                       0\n",
       "Adet                      0\n",
       "ÖTV Oranı                 0\n",
       "ÖTV uygulanan Ürün Adı    0\n",
       "dtype: int64"
      ]
     },
     "execution_count": 28,
     "metadata": {},
     "output_type": "execute_result"
    }
   ],
   "source": [
    "df_otv.isnull().sum()"
   ]
  },
  {
   "cell_type": "code",
   "execution_count": 23,
   "metadata": {},
   "outputs": [],
   "source": [
    "df_platts = pd.read_csv(\"platts.csv\")"
   ]
  },
  {
   "cell_type": "code",
   "execution_count": 24,
   "metadata": {},
   "outputs": [
    {
     "data": {
      "text/html": [
       "<div>\n",
       "<style scoped>\n",
       "    .dataframe tbody tr th:only-of-type {\n",
       "        vertical-align: middle;\n",
       "    }\n",
       "\n",
       "    .dataframe tbody tr th {\n",
       "        vertical-align: top;\n",
       "    }\n",
       "\n",
       "    .dataframe thead th {\n",
       "        text-align: right;\n",
       "    }\n",
       "</style>\n",
       "<table border=\"1\" class=\"dataframe\">\n",
       "  <thead>\n",
       "    <tr style=\"text-align: right;\">\n",
       "      <th></th>\n",
       "      <th>Tarih</th>\n",
       "      <th>Ürün</th>\n",
       "      <th>Avrupa Birliği Birimi</th>\n",
       "      <th>AB Piyasa Fiyatı</th>\n",
       "      <th>AB Piyasa Fiyatı- Yüksek</th>\n",
       "      <th>AB Piyasa Fiyatı- Düşük</th>\n",
       "      <th>Dolar Kuru (Satış)</th>\n",
       "    </tr>\n",
       "  </thead>\n",
       "  <tbody>\n",
       "    <tr>\n",
       "      <th>0</th>\n",
       "      <td>2022-12-31</td>\n",
       "      <td>10 ppm ULSD CIF Med (Genova/Lavera)</td>\n",
       "      <td>$/TON</td>\n",
       "      <td>932.25</td>\n",
       "      <td>932.50</td>\n",
       "      <td>932.00</td>\n",
       "      <td>18.7320</td>\n",
       "    </tr>\n",
       "    <tr>\n",
       "      <th>1</th>\n",
       "      <td>2022-12-30</td>\n",
       "      <td>10 ppm ULSD CIF Med (Genova/Lavera)</td>\n",
       "      <td>$/TON</td>\n",
       "      <td>932.25</td>\n",
       "      <td>932.50</td>\n",
       "      <td>932.00</td>\n",
       "      <td>18.7320</td>\n",
       "    </tr>\n",
       "    <tr>\n",
       "      <th>2</th>\n",
       "      <td>2022-12-29</td>\n",
       "      <td>10 ppm ULSD CIF Med (Genova/Lavera)</td>\n",
       "      <td>$/TON</td>\n",
       "      <td>927.00</td>\n",
       "      <td>927.25</td>\n",
       "      <td>926.75</td>\n",
       "      <td>18.7303</td>\n",
       "    </tr>\n",
       "    <tr>\n",
       "      <th>3</th>\n",
       "      <td>2022-12-28</td>\n",
       "      <td>10 ppm ULSD CIF Med (Genova/Lavera)</td>\n",
       "      <td>$/TON</td>\n",
       "      <td>926.25</td>\n",
       "      <td>926.50</td>\n",
       "      <td>926.00</td>\n",
       "      <td>18.7301</td>\n",
       "    </tr>\n",
       "    <tr>\n",
       "      <th>4</th>\n",
       "      <td>2022-12-27</td>\n",
       "      <td>10 ppm ULSD CIF Med (Genova/Lavera)</td>\n",
       "      <td>$/TON</td>\n",
       "      <td>920.00</td>\n",
       "      <td>920.25</td>\n",
       "      <td>919.75</td>\n",
       "      <td>18.7150</td>\n",
       "    </tr>\n",
       "  </tbody>\n",
       "</table>\n",
       "</div>"
      ],
      "text/plain": [
       "        Tarih                                 Ürün Avrupa Birliği Birimi  \\\n",
       "0  2022-12-31  10 ppm ULSD CIF Med (Genova/Lavera)                 $/TON   \n",
       "1  2022-12-30  10 ppm ULSD CIF Med (Genova/Lavera)                 $/TON   \n",
       "2  2022-12-29  10 ppm ULSD CIF Med (Genova/Lavera)                 $/TON   \n",
       "3  2022-12-28  10 ppm ULSD CIF Med (Genova/Lavera)                 $/TON   \n",
       "4  2022-12-27  10 ppm ULSD CIF Med (Genova/Lavera)                 $/TON   \n",
       "\n",
       "   AB Piyasa Fiyatı  AB Piyasa Fiyatı- Yüksek  AB Piyasa Fiyatı- Düşük  \\\n",
       "0            932.25                    932.50                   932.00   \n",
       "1            932.25                    932.50                   932.00   \n",
       "2            927.00                    927.25                   926.75   \n",
       "3            926.25                    926.50                   926.00   \n",
       "4            920.00                    920.25                   919.75   \n",
       "\n",
       "   Dolar Kuru (Satış)  \n",
       "0             18.7320  \n",
       "1             18.7320  \n",
       "2             18.7303  \n",
       "3             18.7301  \n",
       "4             18.7150  "
      ]
     },
     "execution_count": 24,
     "metadata": {},
     "output_type": "execute_result"
    }
   ],
   "source": [
    "df_platts.head()"
   ]
  },
  {
   "cell_type": "code",
   "execution_count": 29,
   "metadata": {},
   "outputs": [
    {
     "data": {
      "text/plain": [
       "Tarih                       0\n",
       "Ürün                        0\n",
       "Avrupa Birliği Birimi       0\n",
       "AB Piyasa Fiyatı            0\n",
       "AB Piyasa Fiyatı- Yüksek    0\n",
       "AB Piyasa Fiyatı- Düşük     0\n",
       "Dolar Kuru (Satış)          0\n",
       "dtype: int64"
      ]
     },
     "execution_count": 29,
     "metadata": {},
     "output_type": "execute_result"
    }
   ],
   "source": [
    "df_platts.isnull().sum()"
   ]
  },
  {
   "cell_type": "code",
   "execution_count": 25,
   "metadata": {},
   "outputs": [],
   "source": [
    "df_usd = pd.read_csv(\"usd.csv\")"
   ]
  },
  {
   "cell_type": "code",
   "execution_count": 26,
   "metadata": {},
   "outputs": [
    {
     "data": {
      "text/html": [
       "<div>\n",
       "<style scoped>\n",
       "    .dataframe tbody tr th:only-of-type {\n",
       "        vertical-align: middle;\n",
       "    }\n",
       "\n",
       "    .dataframe tbody tr th {\n",
       "        vertical-align: top;\n",
       "    }\n",
       "\n",
       "    .dataframe thead th {\n",
       "        text-align: right;\n",
       "    }\n",
       "</style>\n",
       "<table border=\"1\" class=\"dataframe\">\n",
       "  <thead>\n",
       "    <tr style=\"text-align: right;\">\n",
       "      <th></th>\n",
       "      <th>Yıl</th>\n",
       "      <th>Tarih</th>\n",
       "      <th>USD ALIŞ</th>\n",
       "      <th>USD SATIŞ</th>\n",
       "      <th>EUR ALIŞ</th>\n",
       "      <th>EUR SATIŞ</th>\n",
       "      <th>GBP ALIŞ</th>\n",
       "      <th>GBP SATIŞ</th>\n",
       "    </tr>\n",
       "  </thead>\n",
       "  <tbody>\n",
       "    <tr>\n",
       "      <th>0</th>\n",
       "      <td>2018</td>\n",
       "      <td>2018-01-02</td>\n",
       "      <td>3.7719</td>\n",
       "      <td>3.7787</td>\n",
       "      <td>4.5155</td>\n",
       "      <td>4.5237</td>\n",
       "      <td>5.0803</td>\n",
       "      <td>5.1068</td>\n",
       "    </tr>\n",
       "    <tr>\n",
       "      <th>1</th>\n",
       "      <td>2018</td>\n",
       "      <td>2018-01-03</td>\n",
       "      <td>3.7652</td>\n",
       "      <td>3.7719</td>\n",
       "      <td>4.5375</td>\n",
       "      <td>4.5457</td>\n",
       "      <td>5.0910</td>\n",
       "      <td>5.1175</td>\n",
       "    </tr>\n",
       "    <tr>\n",
       "      <th>2</th>\n",
       "      <td>2018</td>\n",
       "      <td>2018-01-04</td>\n",
       "      <td>3.7617</td>\n",
       "      <td>3.7685</td>\n",
       "      <td>4.5267</td>\n",
       "      <td>4.5349</td>\n",
       "      <td>5.1014</td>\n",
       "      <td>5.1280</td>\n",
       "    </tr>\n",
       "    <tr>\n",
       "      <th>3</th>\n",
       "      <td>2018</td>\n",
       "      <td>2018-01-05</td>\n",
       "      <td>3.7600</td>\n",
       "      <td>3.7668</td>\n",
       "      <td>4.5269</td>\n",
       "      <td>4.5351</td>\n",
       "      <td>5.0818</td>\n",
       "      <td>5.1083</td>\n",
       "    </tr>\n",
       "    <tr>\n",
       "      <th>4</th>\n",
       "      <td>2018</td>\n",
       "      <td>2018-01-06</td>\n",
       "      <td>NaN</td>\n",
       "      <td>NaN</td>\n",
       "      <td>NaN</td>\n",
       "      <td>NaN</td>\n",
       "      <td>NaN</td>\n",
       "      <td>NaN</td>\n",
       "    </tr>\n",
       "  </tbody>\n",
       "</table>\n",
       "</div>"
      ],
      "text/plain": [
       "    Yıl       Tarih  USD ALIŞ  USD SATIŞ  EUR ALIŞ  EUR SATIŞ  GBP ALIŞ  \\\n",
       "0  2018  2018-01-02    3.7719     3.7787    4.5155     4.5237    5.0803   \n",
       "1  2018  2018-01-03    3.7652     3.7719    4.5375     4.5457    5.0910   \n",
       "2  2018  2018-01-04    3.7617     3.7685    4.5267     4.5349    5.1014   \n",
       "3  2018  2018-01-05    3.7600     3.7668    4.5269     4.5351    5.0818   \n",
       "4  2018  2018-01-06       NaN        NaN       NaN        NaN       NaN   \n",
       "\n",
       "   GBP SATIŞ  \n",
       "0     5.1068  \n",
       "1     5.1175  \n",
       "2     5.1280  \n",
       "3     5.1083  \n",
       "4        NaN  "
      ]
     },
     "execution_count": 26,
     "metadata": {},
     "output_type": "execute_result"
    }
   ],
   "source": [
    "df_usd.head()"
   ]
  },
  {
   "cell_type": "code",
   "execution_count": 30,
   "metadata": {},
   "outputs": [
    {
     "data": {
      "text/plain": [
       "Yıl            0\n",
       "Tarih          0\n",
       "USD ALIŞ     581\n",
       "USD SATIŞ    581\n",
       "EUR ALIŞ     581\n",
       "EUR SATIŞ    581\n",
       "GBP ALIŞ     581\n",
       "GBP SATIŞ    581\n",
       "dtype: int64"
      ]
     },
     "execution_count": 30,
     "metadata": {},
     "output_type": "execute_result"
    }
   ],
   "source": [
    "df_usd.isnull().sum()"
   ]
  },
  {
   "cell_type": "code",
   "execution_count": 31,
   "metadata": {},
   "outputs": [],
   "source": [
    "df_submission = pd.read_csv(\"sample_submission.csv\")"
   ]
  },
  {
   "cell_type": "code",
   "execution_count": 33,
   "metadata": {},
   "outputs": [
    {
     "data": {
      "text/html": [
       "<div>\n",
       "<style scoped>\n",
       "    .dataframe tbody tr th:only-of-type {\n",
       "        vertical-align: middle;\n",
       "    }\n",
       "\n",
       "    .dataframe tbody tr th {\n",
       "        vertical-align: top;\n",
       "    }\n",
       "\n",
       "    .dataframe thead th {\n",
       "        text-align: right;\n",
       "    }\n",
       "</style>\n",
       "<table border=\"1\" class=\"dataframe\">\n",
       "  <thead>\n",
       "    <tr style=\"text-align: right;\">\n",
       "      <th></th>\n",
       "      <th>Date</th>\n",
       "      <th>Net Cashflow from Operations</th>\n",
       "    </tr>\n",
       "  </thead>\n",
       "  <tbody>\n",
       "    <tr>\n",
       "      <th>0</th>\n",
       "      <td>2023-02-02</td>\n",
       "      <td>0</td>\n",
       "    </tr>\n",
       "    <tr>\n",
       "      <th>1</th>\n",
       "      <td>2023-02-03</td>\n",
       "      <td>0</td>\n",
       "    </tr>\n",
       "    <tr>\n",
       "      <th>2</th>\n",
       "      <td>2023-02-06</td>\n",
       "      <td>0</td>\n",
       "    </tr>\n",
       "    <tr>\n",
       "      <th>3</th>\n",
       "      <td>2023-02-07</td>\n",
       "      <td>0</td>\n",
       "    </tr>\n",
       "    <tr>\n",
       "      <th>4</th>\n",
       "      <td>2023-02-08</td>\n",
       "      <td>0</td>\n",
       "    </tr>\n",
       "  </tbody>\n",
       "</table>\n",
       "</div>"
      ],
      "text/plain": [
       "         Date  Net Cashflow from Operations\n",
       "0  2023-02-02                             0\n",
       "1  2023-02-03                             0\n",
       "2  2023-02-06                             0\n",
       "3  2023-02-07                             0\n",
       "4  2023-02-08                             0"
      ]
     },
     "execution_count": 33,
     "metadata": {},
     "output_type": "execute_result"
    }
   ],
   "source": [
    "df_submission.head()"
   ]
  },
  {
   "cell_type": "code",
   "execution_count": 35,
   "metadata": {},
   "outputs": [
    {
     "data": {
      "text/plain": [
       "42"
      ]
     },
     "execution_count": 35,
     "metadata": {},
     "output_type": "execute_result"
    }
   ],
   "source": [
    "len(df_submission)"
   ]
  }
 ],
 "metadata": {
  "kernelspec": {
   "display_name": "Python 3 (ipykernel)",
   "language": "python",
   "name": "python3"
  },
  "language_info": {
   "codemirror_mode": {
    "name": "ipython",
    "version": 3
   },
   "file_extension": ".py",
   "mimetype": "text/x-python",
   "name": "python",
   "nbconvert_exporter": "python",
   "pygments_lexer": "ipython3",
   "version": "3.7.3"
  }
 },
 "nbformat": 4,
 "nbformat_minor": 2
}
